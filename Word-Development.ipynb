{
 "cells": [
  {
   "cell_type": "markdown",
   "metadata": {},
   "source": [
    "This project uses the Kaggle Dataset [\"When do children learn words?\"](https://www.kaggle.com/rtatman/when-do-children-learn-words)"
   ]
  },
  {
   "cell_type": "code",
   "execution_count": 1,
   "metadata": {},
   "outputs": [],
   "source": [
    "import pandas as pd #data manipulation & analysis "
   ]
  },
  {
   "cell_type": "markdown",
   "metadata": {},
   "source": [
    "# Data Initialization & Exploration"
   ]
  },
  {
   "cell_type": "code",
   "execution_count": 3,
   "metadata": {},
   "outputs": [],
   "source": [
    "#import the \"main_data\" CSV from Data folder\n",
    "main_data_df = pd.read_csv(\"Data/main_data.csv\") \n",
    "\n",
    "#import the \"Norwegian_CDS_frequency\" CSV from Data folder \n",
    "Norwegian_CDS_frequency_df = pd.read_csv(\"Data/Norwegian_CDS_frequency.csv\")"
   ]
  },
  {
   "cell_type": "markdown",
   "metadata": {},
   "source": [
    "## main_data_df feature & metadata EDA "
   ]
  },
  {
   "cell_type": "code",
   "execution_count": 4,
   "metadata": {},
   "outputs": [
    {
     "data": {
      "text/html": [
       "<div>\n",
       "<style scoped>\n",
       "    .dataframe tbody tr th:only-of-type {\n",
       "        vertical-align: middle;\n",
       "    }\n",
       "\n",
       "    .dataframe tbody tr th {\n",
       "        vertical-align: top;\n",
       "    }\n",
       "\n",
       "    .dataframe thead th {\n",
       "        text-align: right;\n",
       "    }\n",
       "</style>\n",
       "<table border=\"1\" class=\"dataframe\">\n",
       "  <thead>\n",
       "    <tr style=\"text-align: right;\">\n",
       "      <th></th>\n",
       "      <th>ID_CDI_I</th>\n",
       "      <th>ID_CDI_II</th>\n",
       "      <th>Word_NW</th>\n",
       "      <th>Word_CDI</th>\n",
       "      <th>Translation</th>\n",
       "      <th>AoA</th>\n",
       "      <th>VSoA</th>\n",
       "      <th>Lex_cat</th>\n",
       "      <th>Broad_lex</th>\n",
       "      <th>Freq</th>\n",
       "      <th>CDS_freq</th>\n",
       "    </tr>\n",
       "  </thead>\n",
       "  <tbody>\n",
       "    <tr>\n",
       "      <th>0</th>\n",
       "      <td>i_4_1</td>\n",
       "      <td>i_1_1</td>\n",
       "      <td>'au'</td>\n",
       "      <td>'au'</td>\n",
       "      <td>'ouch'</td>\n",
       "      <td>16.0</td>\n",
       "      <td>40.0</td>\n",
       "      <td>sound effects</td>\n",
       "      <td>nominals</td>\n",
       "      <td>4366.0</td>\n",
       "      <td>7.0</td>\n",
       "    </tr>\n",
       "    <tr>\n",
       "      <th>1</th>\n",
       "      <td>i_4_2</td>\n",
       "      <td>i_1_2</td>\n",
       "      <td>'bææ'</td>\n",
       "      <td>'bææ'</td>\n",
       "      <td>'baa baa'</td>\n",
       "      <td>15.0</td>\n",
       "      <td>40.0</td>\n",
       "      <td>sound effects</td>\n",
       "      <td>nominals</td>\n",
       "      <td>18.0</td>\n",
       "      <td>5.0</td>\n",
       "    </tr>\n",
       "    <tr>\n",
       "      <th>2</th>\n",
       "      <td>i_4_3</td>\n",
       "      <td>i_1_3</td>\n",
       "      <td>'brrr (bil-lyd)'</td>\n",
       "      <td>'brrr (bil-lyd)'</td>\n",
       "      <td>'vroom'</td>\n",
       "      <td>13.0</td>\n",
       "      <td>20.0</td>\n",
       "      <td>sound effects</td>\n",
       "      <td>nominals</td>\n",
       "      <td>NaN</td>\n",
       "      <td>20.0</td>\n",
       "    </tr>\n",
       "    <tr>\n",
       "      <th>3</th>\n",
       "      <td>i_4_4</td>\n",
       "      <td>i_1_4</td>\n",
       "      <td>'gakk gakk'</td>\n",
       "      <td>'gakk gakk'</td>\n",
       "      <td>'quack quack'</td>\n",
       "      <td>17.0</td>\n",
       "      <td>40.0</td>\n",
       "      <td>sound effects</td>\n",
       "      <td>nominals</td>\n",
       "      <td>16.0</td>\n",
       "      <td>3.0</td>\n",
       "    </tr>\n",
       "    <tr>\n",
       "      <th>4</th>\n",
       "      <td>i_4_5</td>\n",
       "      <td>i_1_5</td>\n",
       "      <td>'grr'</td>\n",
       "      <td>'grr'</td>\n",
       "      <td>'grr'</td>\n",
       "      <td>22.0</td>\n",
       "      <td>220.0</td>\n",
       "      <td>sound effects</td>\n",
       "      <td>nominals</td>\n",
       "      <td>78.0</td>\n",
       "      <td>1.0</td>\n",
       "    </tr>\n",
       "  </tbody>\n",
       "</table>\n",
       "</div>"
      ],
      "text/plain": [
       "  ID_CDI_I ID_CDI_II           Word_NW          Word_CDI    Translation   AoA  \\\n",
       "0    i_4_1     i_1_1              'au'              'au'         'ouch'  16.0   \n",
       "1    i_4_2     i_1_2             'bææ'             'bææ'      'baa baa'  15.0   \n",
       "2    i_4_3     i_1_3  'brrr (bil-lyd)'  'brrr (bil-lyd)'        'vroom'  13.0   \n",
       "3    i_4_4     i_1_4       'gakk gakk'       'gakk gakk'  'quack quack'  17.0   \n",
       "4    i_4_5     i_1_5             'grr'             'grr'          'grr'  22.0   \n",
       "\n",
       "    VSoA        Lex_cat Broad_lex    Freq  CDS_freq  \n",
       "0   40.0  sound effects  nominals  4366.0       7.0  \n",
       "1   40.0  sound effects  nominals    18.0       5.0  \n",
       "2   20.0  sound effects  nominals     NaN      20.0  \n",
       "3   40.0  sound effects  nominals    16.0       3.0  \n",
       "4  220.0  sound effects  nominals    78.0       1.0  "
      ]
     },
     "execution_count": 4,
     "metadata": {},
     "output_type": "execute_result"
    }
   ],
   "source": [
    "main_data_df.head()"
   ]
  },
  {
   "cell_type": "code",
   "execution_count": 7,
   "metadata": {},
   "outputs": [
    {
     "data": {
      "text/plain": [
       "ID_CDI_I        object\n",
       "ID_CDI_II       object\n",
       "Word_NW         object\n",
       "Word_CDI        object\n",
       "Translation     object\n",
       "AoA            float64\n",
       "VSoA           float64\n",
       "Lex_cat         object\n",
       "Broad_lex       object\n",
       "Freq           float64\n",
       "CDS_freq       float64\n",
       "dtype: object"
      ]
     },
     "execution_count": 7,
     "metadata": {},
     "output_type": "execute_result"
    }
   ],
   "source": [
    "main_data_df.dtypes"
   ]
  },
  {
   "cell_type": "code",
   "execution_count": 9,
   "metadata": {},
   "outputs": [
    {
     "data": {
      "text/plain": [
       "(731, 11)"
      ]
     },
     "execution_count": 9,
     "metadata": {},
     "output_type": "execute_result"
    }
   ],
   "source": [
    "main_data_df.shape"
   ]
  },
  {
   "cell_type": "code",
   "execution_count": 13,
   "metadata": {},
   "outputs": [
    {
     "data": {
      "text/plain": [
       "Index(['ID_CDI_I', 'ID_CDI_II', 'Word_NW', 'Word_CDI', 'Translation', 'AoA',\n",
       "       'VSoA', 'Lex_cat', 'Broad_lex', 'Freq', 'CDS_freq'],\n",
       "      dtype='object')"
      ]
     },
     "execution_count": 13,
     "metadata": {},
     "output_type": "execute_result"
    }
   ],
   "source": [
    "main_data_df.columns"
   ]
  },
  {
   "cell_type": "code",
   "execution_count": 12,
   "metadata": {},
   "outputs": [
    {
     "data": {
      "text/plain": [
       "ID_CDI_I       341\n",
       "ID_CDI_II        0\n",
       "Word_NW          0\n",
       "Word_CDI         0\n",
       "Translation      0\n",
       "AoA             36\n",
       "VSoA            27\n",
       "Lex_cat         16\n",
       "Broad_lex       16\n",
       "Freq            10\n",
       "CDS_freq         8\n",
       "dtype: int64"
      ]
     },
     "execution_count": 12,
     "metadata": {},
     "output_type": "execute_result"
    }
   ],
   "source": [
    "main_data_df.isna().sum()"
   ]
  },
  {
   "cell_type": "markdown",
   "metadata": {},
   "source": [
    "This dataset contains 731 enteries, 11 columns. There are missing enteries in 7 columns, that will need to be handled before analysis. Reference for columns: \n",
    "* IDCDII: Word ID from the Norwegian adaptation of the MacArthur-Bates Communicative Development Inventories, version 1\n",
    "* IDCDIII: Word ID from the Norwegian adaptation of the MacArthur-Bates Communicative Development Inventories, version 2\n",
    "* Word_NW: The word in Norwegian\n",
    "* Word_CDI: The form of the word found in the Norwegian adaptation of the MacArthur-Bates Communicative Development Inventories\n",
    "* Translation: the English translation of the Norwegian word\n",
    "* AoA: how old a child generally is was when they this this word, in months (Estimated from the MacArthur-Bates Communicative Development Inventories)\n",
    "* VSoA: how many other words a child generally knows when they learn this word (rounded up to the nearest 10)\n",
    "* Lex_cat: the specific part of speech of the word\n",
    "* Broad_lex: the broad part of speech of the word\n",
    "* Freq: a measure of how commonly this word occurs in Norwegian\n",
    "* CDS_Freq: a measure of how commonly this word occurs when a Norwegian adult is talking to a Norwegian child"
   ]
  },
  {
   "cell_type": "markdown",
   "metadata": {},
   "source": [
    "## Norwegian_CDS_frequency_df feature & metadata EDA"
   ]
  },
  {
   "cell_type": "code",
   "execution_count": 15,
   "metadata": {},
   "outputs": [
    {
     "data": {
      "text/html": [
       "<div>\n",
       "<style scoped>\n",
       "    .dataframe tbody tr th:only-of-type {\n",
       "        vertical-align: middle;\n",
       "    }\n",
       "\n",
       "    .dataframe tbody tr th {\n",
       "        vertical-align: top;\n",
       "    }\n",
       "\n",
       "    .dataframe thead th {\n",
       "        text-align: right;\n",
       "    }\n",
       "</style>\n",
       "<table border=\"1\" class=\"dataframe\">\n",
       "  <thead>\n",
       "    <tr style=\"text-align: right;\">\n",
       "      <th></th>\n",
       "      <th>Word_CDI</th>\n",
       "      <th>Translation</th>\n",
       "      <th>Freq_NoWaC</th>\n",
       "      <th>Freq_CDS</th>\n",
       "    </tr>\n",
       "  </thead>\n",
       "  <tbody>\n",
       "    <tr>\n",
       "      <th>0</th>\n",
       "      <td>'au'</td>\n",
       "      <td>'ouch'</td>\n",
       "      <td>4366.0</td>\n",
       "      <td>7.0</td>\n",
       "    </tr>\n",
       "    <tr>\n",
       "      <th>1</th>\n",
       "      <td>'bææ'</td>\n",
       "      <td>'baa baa'</td>\n",
       "      <td>18.0</td>\n",
       "      <td>5.0</td>\n",
       "    </tr>\n",
       "    <tr>\n",
       "      <th>2</th>\n",
       "      <td>'brrr (bil-lyd)'</td>\n",
       "      <td>'vroom'</td>\n",
       "      <td>NaN</td>\n",
       "      <td>20.0</td>\n",
       "    </tr>\n",
       "    <tr>\n",
       "      <th>3</th>\n",
       "      <td>'gakk gakk'</td>\n",
       "      <td>'quack quack'</td>\n",
       "      <td>16.0</td>\n",
       "      <td>3.0</td>\n",
       "    </tr>\n",
       "    <tr>\n",
       "      <th>4</th>\n",
       "      <td>'grr'</td>\n",
       "      <td>'grr'</td>\n",
       "      <td>78.0</td>\n",
       "      <td>1.0</td>\n",
       "    </tr>\n",
       "  </tbody>\n",
       "</table>\n",
       "</div>"
      ],
      "text/plain": [
       "           Word_CDI    Translation  Freq_NoWaC  Freq_CDS\n",
       "0              'au'         'ouch'      4366.0       7.0\n",
       "1             'bææ'      'baa baa'        18.0       5.0\n",
       "2  'brrr (bil-lyd)'        'vroom'         NaN      20.0\n",
       "3       'gakk gakk'  'quack quack'        16.0       3.0\n",
       "4             'grr'          'grr'        78.0       1.0"
      ]
     },
     "execution_count": 15,
     "metadata": {},
     "output_type": "execute_result"
    }
   ],
   "source": [
    "Norwegian_CDS_frequency_df.head()"
   ]
  },
  {
   "cell_type": "code",
   "execution_count": 18,
   "metadata": {},
   "outputs": [
    {
     "data": {
      "text/plain": [
       "Word_CDI        object\n",
       "Translation     object\n",
       "Freq_NoWaC     float64\n",
       "Freq_CDS       float64\n",
       "dtype: object"
      ]
     },
     "execution_count": 18,
     "metadata": {},
     "output_type": "execute_result"
    }
   ],
   "source": [
    "Norwegian_CDS_frequency_df.dtypes"
   ]
  },
  {
   "cell_type": "code",
   "execution_count": 19,
   "metadata": {},
   "outputs": [
    {
     "data": {
      "text/plain": [
       "(731, 4)"
      ]
     },
     "execution_count": 19,
     "metadata": {},
     "output_type": "execute_result"
    }
   ],
   "source": [
    "Norwegian_CDS_frequency_df.shape"
   ]
  },
  {
   "cell_type": "code",
   "execution_count": 21,
   "metadata": {},
   "outputs": [
    {
     "data": {
      "text/plain": [
       "Index(['Word_CDI', 'Translation', 'Freq_NoWaC', 'Freq_CDS'], dtype='object')"
      ]
     },
     "execution_count": 21,
     "metadata": {},
     "output_type": "execute_result"
    }
   ],
   "source": [
    "Norwegian_CDS_frequency_df.columns"
   ]
  },
  {
   "cell_type": "code",
   "execution_count": 23,
   "metadata": {},
   "outputs": [
    {
     "data": {
      "text/plain": [
       "Word_CDI        0\n",
       "Translation     0\n",
       "Freq_NoWaC     10\n",
       "Freq_CDS        8\n",
       "dtype: int64"
      ]
     },
     "execution_count": 23,
     "metadata": {},
     "output_type": "execute_result"
    }
   ],
   "source": [
    "Norwegian_CDS_frequency_df.isna().sum()"
   ]
  },
  {
   "cell_type": "markdown",
   "metadata": {},
   "source": [
    "This dataset contains 731 entries and 4 columns. 2 columns have null values that will have to be resolved before analysis. Reference for columns: \n",
    "* Word_CDI: The word from, as found in the Norwegian adaptation of the MacArthur-Bates Communicative Development Inventories\n",
    "* Translation: The English translation of the Norwegian word\n",
    "* Freq_NoWaC: How often this word is used on the internet\n",
    "* Freq_CDS: How often this word is used when talking to children (based on two Norwegian CHILDES corpora)"
   ]
  },
  {
   "cell_type": "code",
   "execution_count": null,
   "metadata": {},
   "outputs": [],
   "source": []
  }
 ],
 "metadata": {
  "kernelspec": {
   "display_name": "Python 3",
   "language": "python",
   "name": "python3"
  },
  "language_info": {
   "codemirror_mode": {
    "name": "ipython",
    "version": 3
   },
   "file_extension": ".py",
   "mimetype": "text/x-python",
   "name": "python",
   "nbconvert_exporter": "python",
   "pygments_lexer": "ipython3",
   "version": "3.8.3"
  },
  "toc": {
   "base_numbering": 1,
   "nav_menu": {},
   "number_sections": true,
   "sideBar": true,
   "skip_h1_title": false,
   "title_cell": "Table of Contents",
   "title_sidebar": "Contents",
   "toc_cell": false,
   "toc_position": {},
   "toc_section_display": true,
   "toc_window_display": false
  }
 },
 "nbformat": 4,
 "nbformat_minor": 4
}
